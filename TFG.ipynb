{
 "cells": [
  {
   "cell_type": "markdown",
   "metadata": {},
   "source": [
    "# Códigos para el TFG"
   ]
  },
  {
   "cell_type": "markdown",
   "metadata": {},
   "source": [
    "## Importamos las librerias necesarias"
   ]
  },
  {
   "cell_type": "code",
   "execution_count": 19,
   "metadata": {},
   "outputs": [
    {
     "name": "stderr",
     "output_type": "stream",
     "text": [
      "c:\\Users\\alvar\\Desktop\\UCM\\Cuarto Curso\\TFG\\.venv\\Lib\\site-packages\\pysr\\sr.py:2776: UserWarning: Note: it looks like you are running in Jupyter. The progress bar will be turned off.\n",
      "  warnings.warn(\n"
     ]
    },
    {
     "name": "stdout",
     "output_type": "stream",
     "text": [
      "f = (((#1 + exp(#1 / exp((#1 * 0.400728) - -0.47137836))) * 2.1997387) - (1.4390634 / exp(exp(#1 - 0.75097775)))) + -1.3004605; g = #1 + #1\n",
      "2.1997387*x0 + 2.1997387*exp(0.624141383596996*x0*exp(-0.400728*x0)) - 1.3004605 - 1.4390634*exp(-0.471904922060547*exp(x0)) 2*x1\n",
      "7.841734441220234\n"
     ]
    }
   ],
   "source": [
    "import numpy as np\n",
    "import pandas as pd\n",
    "from sklearn.model_selection import train_test_split\n",
    "from pysr import PySRRegressor, TemplateExpressionSpec\n",
    "from sympy import symbols\n",
    "from sympy.parsing.sympy_parser import parse_expr, standard_transformations, implicit_multiplication_application\n",
    "\n",
    "def symbolic_regression(df, input_cols, target_col, threshold=0.2):\n",
    "    X = df[input_cols].values\n",
    "    y = df[target_col].values\n",
    "\n",
    "    # Split the data\n",
    "    X_train, X_test, y_train, y_test = train_test_split(\n",
    "        X, y, test_size=0.3, random_state=12\n",
    "    )\n",
    "\n",
    "    if len(input_cols) == 2:\n",
    "        spec = TemplateExpressionSpec(\n",
    "            expressions=[\"f\",\"g\"],\n",
    "            variable_names=[\"x0\", \"x1\"],\n",
    "            combine=\"f(x0) + g(x1)\"\n",
    "        )\n",
    "    else:\n",
    "        spec = TemplateExpressionSpec(\n",
    "            expressions=[\"f\"],\n",
    "            variable_names=[\"x0\"],\n",
    "            combine=\"f(x0)\"\n",
    "        )\n",
    "\n",
    "    model = PySRRegressor(\n",
    "        binary_operators=[\"+\", \"-\", \"*\", \"/\", \"^\"],\n",
    "        unary_operators=[\"exp\", \"log\", \"sqrt\"],\n",
    "        model_selection=\"best\",\n",
    "        verbosity=0,\n",
    "        constraints={'^': (-2, 2)},\n",
    "        expression_spec=spec\n",
    "    )\n",
    "\n",
    "    model.fit(X_train, y_train)\n",
    "    y_pred = model.predict(X_test)\n",
    "\n",
    "    return model.get_best()['equation']\n",
    "\n",
    "# --------------------------\n",
    "# Ejemplo para probarla\n",
    "# --------------------------\n",
    "\n",
    "# Crear un DataFrame con una función conocida de dos variables\n",
    "np.random.seed(0)\n",
    "x = np.random.uniform(-2, 2, 100)\n",
    "y = np.random.uniform(-2, 2, 100)\n",
    "z = 3 * x + 2 * y + np.sin(x)  # relación no lineal simple\n",
    "\n",
    "df = pd.DataFrame({\n",
    "    \"x\": x,\n",
    "    \"y\": y,\n",
    "    \"z\": z\n",
    "})\n",
    "\n",
    "# Ejecutar la función\n",
    "expr = symbolic_regression(df, input_cols=[\"x\", \"y\"], target_col=\"z\")\n",
    "print(expr)\n",
    "\n",
    "\n",
    "\n",
    "# Define the symbols\n",
    "x0, x1 = symbols(\"x0 x1\")\n",
    "\n",
    "# Define the local dictionary for variable mapping\n",
    "local_dict = {\"x0\": x0, \"x1\": x1}\n",
    "expr1 = expr.split(';',1)[0].strip()\n",
    "expr2 = expr.split(';',1)[1].strip()\n",
    "rhs1 = expr1.split('=')[1].strip()\n",
    "rhs2 = expr2.split('=')[1].strip()\n",
    "rhs1 = rhs1.replace(\"^\", \"**\")\n",
    "rhs2 = rhs2.replace(\"^\", \"**\")\n",
    "f = rhs1.replace(\"#1\", \"x0\")\n",
    "g = rhs2.replace(\"#1\", \"x1\")\n",
    "\n",
    "# Define the transformations to handle implicit multiplication\n",
    "transformations = standard_transformations + (implicit_multiplication_application,)\n",
    "\n",
    "# Parse the expression\n",
    "f2 = parse_expr(f, local_dict=local_dict, transformations=transformations)\n",
    "g2 = parse_expr(g, local_dict=local_dict, transformations=transformations)\n",
    "print(f2,g2)\n",
    "from sympy import lambdify\n",
    "\n",
    "# Create a numerical function\n",
    "f_numeric = lambdify((x0, x1), f2+g2, modules=\"numpy\")\n",
    "\n",
    "# Evaluate the function\n",
    "result = f_numeric(1.0, 2.0)\n",
    "\n",
    "print(result)\n"
   ]
  },
  {
   "cell_type": "markdown",
   "metadata": {},
   "source": [
    "### Visualización"
   ]
  },
  {
   "cell_type": "markdown",
   "metadata": {},
   "source": [
    "### Análisis de datos"
   ]
  },
  {
   "cell_type": "markdown",
   "metadata": {},
   "source": [
    "### Algorítmos"
   ]
  },
  {
   "cell_type": "markdown",
   "metadata": {},
   "source": [
    "## Abrimos los archivos"
   ]
  },
  {
   "cell_type": "markdown",
   "metadata": {},
   "source": [
    "### Datos de masa"
   ]
  },
  {
   "cell_type": "markdown",
   "metadata": {},
   "source": [
    "#### Mostramos los datos de la masa"
   ]
  },
  {
   "cell_type": "markdown",
   "metadata": {},
   "source": [
    "### Datos del redshift"
   ]
  },
  {
   "cell_type": "markdown",
   "metadata": {},
   "source": [
    "#### Mostramos los datos del redshift"
   ]
  },
  {
   "cell_type": "markdown",
   "metadata": {},
   "source": [
    "### Datos de propiedades físicas"
   ]
  },
  {
   "cell_type": "markdown",
   "metadata": {},
   "source": [
    "#### Mostramos los datos de las propiedades físicas"
   ]
  },
  {
   "cell_type": "markdown",
   "metadata": {},
   "source": [
    "## Análisis preliminar de los datos"
   ]
  },
  {
   "cell_type": "markdown",
   "metadata": {},
   "source": [
    "### Creamos unos reports para ver la forma de los datos "
   ]
  },
  {
   "cell_type": "markdown",
   "metadata": {},
   "source": [
    "### Análisis de las relaciones en 2 dimensiones"
   ]
  },
  {
   "cell_type": "markdown",
   "metadata": {},
   "source": [
    "### Análisis de las relaciones en 3 dimensiones"
   ]
  },
  {
   "cell_type": "markdown",
   "metadata": {},
   "source": [
    "## Modelos de regressión simbólica"
   ]
  },
  {
   "cell_type": "markdown",
   "metadata": {},
   "source": [
    "### Análisis de las relaciones en 2 dimensiones"
   ]
  },
  {
   "cell_type": "markdown",
   "metadata": {},
   "source": [
    "### Análisis de las relaciones en 3 dimensiones"
   ]
  }
 ],
 "metadata": {
  "kernelspec": {
   "display_name": ".venv",
   "language": "python",
   "name": "python3"
  },
  "language_info": {
   "codemirror_mode": {
    "name": "ipython",
    "version": 3
   },
   "file_extension": ".py",
   "mimetype": "text/x-python",
   "name": "python",
   "nbconvert_exporter": "python",
   "pygments_lexer": "ipython3",
   "version": "3.11.8"
  }
 },
 "nbformat": 4,
 "nbformat_minor": 2
}
